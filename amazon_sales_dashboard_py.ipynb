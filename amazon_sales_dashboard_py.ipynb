{
  "nbformat": 4,
  "nbformat_minor": 0,
  "metadata": {
    "colab": {
      "provenance": [],
      "name": "amazon_sales_dashboard-py",
      "authorship_tag": "ABX9TyNnInL6I8oaNO/KQoEFoE2E"
    },
    "kernelspec": {
      "name": "python3",
      "display_name": "Python 3"
    },
    "language_info": {
      "name": "python"
    }
  },
  "cells": [
    {
      "cell_type": "markdown",
      "source": [
        " 1.Load and Explore the Data"
      ],
      "metadata": {
        "id": "u0sAbwaw4hVG"
      }
    },
    {
      "cell_type": "code",
      "source": [
        "pip install streamlit"
      ],
      "metadata": {
        "colab": {
          "base_uri": "https://localhost:8080/"
        },
        "id": "SMhdd2rY5COR",
        "outputId": "5f001b02-d9d8-4db2-80eb-10df1d3562ee"
      },
      "execution_count": null,
      "outputs": [
        {
          "output_type": "stream",
          "name": "stdout",
          "text": [
            "Collecting streamlit\n",
            "  Downloading streamlit-1.38.0-py2.py3-none-any.whl.metadata (8.5 kB)\n",
            "Requirement already satisfied: altair<6,>=4.0 in /usr/local/lib/python3.10/dist-packages (from streamlit) (4.2.2)\n",
            "Requirement already satisfied: blinker<2,>=1.0.0 in /usr/lib/python3/dist-packages (from streamlit) (1.4)\n",
            "Requirement already satisfied: cachetools<6,>=4.0 in /usr/local/lib/python3.10/dist-packages (from streamlit) (5.5.0)\n",
            "Requirement already satisfied: click<9,>=7.0 in /usr/local/lib/python3.10/dist-packages (from streamlit) (8.1.7)\n",
            "Requirement already satisfied: numpy<3,>=1.20 in /usr/local/lib/python3.10/dist-packages (from streamlit) (1.26.4)\n",
            "Requirement already satisfied: packaging<25,>=20 in /usr/local/lib/python3.10/dist-packages (from streamlit) (24.1)\n",
            "Requirement already satisfied: pandas<3,>=1.3.0 in /usr/local/lib/python3.10/dist-packages (from streamlit) (2.1.4)\n",
            "Requirement already satisfied: pillow<11,>=7.1.0 in /usr/local/lib/python3.10/dist-packages (from streamlit) (9.4.0)\n",
            "Requirement already satisfied: protobuf<6,>=3.20 in /usr/local/lib/python3.10/dist-packages (from streamlit) (3.20.3)\n",
            "Requirement already satisfied: pyarrow>=7.0 in /usr/local/lib/python3.10/dist-packages (from streamlit) (14.0.2)\n",
            "Requirement already satisfied: requests<3,>=2.27 in /usr/local/lib/python3.10/dist-packages (from streamlit) (2.32.3)\n",
            "Requirement already satisfied: rich<14,>=10.14.0 in /usr/local/lib/python3.10/dist-packages (from streamlit) (13.8.0)\n",
            "Collecting tenacity<9,>=8.1.0 (from streamlit)\n",
            "  Downloading tenacity-8.5.0-py3-none-any.whl.metadata (1.2 kB)\n",
            "Requirement already satisfied: toml<2,>=0.10.1 in /usr/local/lib/python3.10/dist-packages (from streamlit) (0.10.2)\n",
            "Requirement already satisfied: typing-extensions<5,>=4.3.0 in /usr/local/lib/python3.10/dist-packages (from streamlit) (4.12.2)\n",
            "Collecting gitpython!=3.1.19,<4,>=3.0.7 (from streamlit)\n",
            "  Downloading GitPython-3.1.43-py3-none-any.whl.metadata (13 kB)\n",
            "Collecting pydeck<1,>=0.8.0b4 (from streamlit)\n",
            "  Downloading pydeck-0.9.1-py2.py3-none-any.whl.metadata (4.1 kB)\n",
            "Requirement already satisfied: tornado<7,>=6.0.3 in /usr/local/lib/python3.10/dist-packages (from streamlit) (6.3.3)\n",
            "Collecting watchdog<5,>=2.1.5 (from streamlit)\n",
            "  Downloading watchdog-4.0.2-py3-none-manylinux2014_x86_64.whl.metadata (38 kB)\n",
            "Requirement already satisfied: entrypoints in /usr/local/lib/python3.10/dist-packages (from altair<6,>=4.0->streamlit) (0.4)\n",
            "Requirement already satisfied: jinja2 in /usr/local/lib/python3.10/dist-packages (from altair<6,>=4.0->streamlit) (3.1.4)\n",
            "Requirement already satisfied: jsonschema>=3.0 in /usr/local/lib/python3.10/dist-packages (from altair<6,>=4.0->streamlit) (4.23.0)\n",
            "Requirement already satisfied: toolz in /usr/local/lib/python3.10/dist-packages (from altair<6,>=4.0->streamlit) (0.12.1)\n",
            "Collecting gitdb<5,>=4.0.1 (from gitpython!=3.1.19,<4,>=3.0.7->streamlit)\n",
            "  Downloading gitdb-4.0.11-py3-none-any.whl.metadata (1.2 kB)\n",
            "Requirement already satisfied: python-dateutil>=2.8.2 in /usr/local/lib/python3.10/dist-packages (from pandas<3,>=1.3.0->streamlit) (2.8.2)\n",
            "Requirement already satisfied: pytz>=2020.1 in /usr/local/lib/python3.10/dist-packages (from pandas<3,>=1.3.0->streamlit) (2024.1)\n",
            "Requirement already satisfied: tzdata>=2022.1 in /usr/local/lib/python3.10/dist-packages (from pandas<3,>=1.3.0->streamlit) (2024.1)\n",
            "Requirement already satisfied: charset-normalizer<4,>=2 in /usr/local/lib/python3.10/dist-packages (from requests<3,>=2.27->streamlit) (3.3.2)\n",
            "Requirement already satisfied: idna<4,>=2.5 in /usr/local/lib/python3.10/dist-packages (from requests<3,>=2.27->streamlit) (3.8)\n",
            "Requirement already satisfied: urllib3<3,>=1.21.1 in /usr/local/lib/python3.10/dist-packages (from requests<3,>=2.27->streamlit) (2.0.7)\n",
            "Requirement already satisfied: certifi>=2017.4.17 in /usr/local/lib/python3.10/dist-packages (from requests<3,>=2.27->streamlit) (2024.7.4)\n",
            "Requirement already satisfied: markdown-it-py>=2.2.0 in /usr/local/lib/python3.10/dist-packages (from rich<14,>=10.14.0->streamlit) (3.0.0)\n",
            "Requirement already satisfied: pygments<3.0.0,>=2.13.0 in /usr/local/lib/python3.10/dist-packages (from rich<14,>=10.14.0->streamlit) (2.16.1)\n",
            "Collecting smmap<6,>=3.0.1 (from gitdb<5,>=4.0.1->gitpython!=3.1.19,<4,>=3.0.7->streamlit)\n",
            "  Downloading smmap-5.0.1-py3-none-any.whl.metadata (4.3 kB)\n",
            "Requirement already satisfied: MarkupSafe>=2.0 in /usr/local/lib/python3.10/dist-packages (from jinja2->altair<6,>=4.0->streamlit) (2.1.5)\n",
            "Requirement already satisfied: attrs>=22.2.0 in /usr/local/lib/python3.10/dist-packages (from jsonschema>=3.0->altair<6,>=4.0->streamlit) (24.2.0)\n",
            "Requirement already satisfied: jsonschema-specifications>=2023.03.6 in /usr/local/lib/python3.10/dist-packages (from jsonschema>=3.0->altair<6,>=4.0->streamlit) (2023.12.1)\n",
            "Requirement already satisfied: referencing>=0.28.4 in /usr/local/lib/python3.10/dist-packages (from jsonschema>=3.0->altair<6,>=4.0->streamlit) (0.35.1)\n",
            "Requirement already satisfied: rpds-py>=0.7.1 in /usr/local/lib/python3.10/dist-packages (from jsonschema>=3.0->altair<6,>=4.0->streamlit) (0.20.0)\n",
            "Requirement already satisfied: mdurl~=0.1 in /usr/local/lib/python3.10/dist-packages (from markdown-it-py>=2.2.0->rich<14,>=10.14.0->streamlit) (0.1.2)\n",
            "Requirement already satisfied: six>=1.5 in /usr/local/lib/python3.10/dist-packages (from python-dateutil>=2.8.2->pandas<3,>=1.3.0->streamlit) (1.16.0)\n",
            "Downloading streamlit-1.38.0-py2.py3-none-any.whl (8.7 MB)\n",
            "\u001b[2K   \u001b[90m━━━━━━━━━━━━━━━━━━━━━━━━━━━━━━━━━━━━━━━━\u001b[0m \u001b[32m8.7/8.7 MB\u001b[0m \u001b[31m43.0 MB/s\u001b[0m eta \u001b[36m0:00:00\u001b[0m\n",
            "\u001b[?25hDownloading GitPython-3.1.43-py3-none-any.whl (207 kB)\n",
            "\u001b[2K   \u001b[90m━━━━━━━━━━━━━━━━━━━━━━━━━━━━━━━━━━━━━━━━\u001b[0m \u001b[32m207.3/207.3 kB\u001b[0m \u001b[31m9.7 MB/s\u001b[0m eta \u001b[36m0:00:00\u001b[0m\n",
            "\u001b[?25hDownloading pydeck-0.9.1-py2.py3-none-any.whl (6.9 MB)\n",
            "\u001b[2K   \u001b[90m━━━━━━━━━━━━━━━━━━━━━━━━━━━━━━━━━━━━━━━━\u001b[0m \u001b[32m6.9/6.9 MB\u001b[0m \u001b[31m55.7 MB/s\u001b[0m eta \u001b[36m0:00:00\u001b[0m\n",
            "\u001b[?25hDownloading tenacity-8.5.0-py3-none-any.whl (28 kB)\n",
            "Downloading watchdog-4.0.2-py3-none-manylinux2014_x86_64.whl (82 kB)\n",
            "\u001b[2K   \u001b[90m━━━━━━━━━━━━━━━━━━━━━━━━━━━━━━━━━━━━━━━━\u001b[0m \u001b[32m82.9/82.9 kB\u001b[0m \u001b[31m4.0 MB/s\u001b[0m eta \u001b[36m0:00:00\u001b[0m\n",
            "\u001b[?25hDownloading gitdb-4.0.11-py3-none-any.whl (62 kB)\n",
            "\u001b[2K   \u001b[90m━━━━━━━━━━━━━━━━━━━━━━━━━━━━━━━━━━━━━━━━\u001b[0m \u001b[32m62.7/62.7 kB\u001b[0m \u001b[31m3.3 MB/s\u001b[0m eta \u001b[36m0:00:00\u001b[0m\n",
            "\u001b[?25hDownloading smmap-5.0.1-py3-none-any.whl (24 kB)\n",
            "Installing collected packages: watchdog, tenacity, smmap, pydeck, gitdb, gitpython, streamlit\n",
            "  Attempting uninstall: tenacity\n",
            "    Found existing installation: tenacity 9.0.0\n",
            "    Uninstalling tenacity-9.0.0:\n",
            "      Successfully uninstalled tenacity-9.0.0\n",
            "Successfully installed gitdb-4.0.11 gitpython-3.1.43 pydeck-0.9.1 smmap-5.0.1 streamlit-1.38.0 tenacity-8.5.0 watchdog-4.0.2\n"
          ]
        }
      ]
    },
    {
      "cell_type": "code",
      "source": [
        "import pandas as pd\n",
        "import streamlit as st\n",
        "\n",
        "# Load the data\n",
        "file_path = '/content/amazon.csv'\n",
        "df = pd.read_csv(file_path)\n",
        "\n",
        "# Display the dataframe\n",
        "st.title(\"Amazon Sales Dashboard\")\n",
        "st.write(df.head())\n",
        "\n",
        "# Display basic data overview\n",
        "st.subheader(\"Data Overview\")\n",
        "st.write(\"Total Rows:\", df.shape[0])\n",
        "st.write(\"Total Columns:\", df.shape[1])\n",
        "st.write(df.columns)"
      ],
      "metadata": {
        "colab": {
          "base_uri": "https://localhost:8080/"
        },
        "id": "-O--IKIQ4kou",
        "outputId": "cc3154e4-88ad-48a0-af26-e9f93dddbac9"
      },
      "execution_count": null,
      "outputs": [
        {
          "output_type": "stream",
          "name": "stderr",
          "text": [
            "2024-08-28 16:54:50.517 Thread 'MainThread': missing ScriptRunContext! This warning can be ignored when running in bare mode.\n",
            "2024-08-28 16:54:50.519 Thread 'MainThread': missing ScriptRunContext! This warning can be ignored when running in bare mode.\n",
            "2024-08-28 16:54:50.526 Thread 'MainThread': missing ScriptRunContext! This warning can be ignored when running in bare mode.\n",
            "2024-08-28 16:54:50.527 Thread 'MainThread': missing ScriptRunContext! This warning can be ignored when running in bare mode.\n",
            "2024-08-28 16:54:50.531 Thread 'MainThread': missing ScriptRunContext! This warning can be ignored when running in bare mode.\n",
            "2024-08-28 16:54:50.533 Thread 'MainThread': missing ScriptRunContext! This warning can be ignored when running in bare mode.\n",
            "2024-08-28 16:54:50.537 Thread 'MainThread': missing ScriptRunContext! This warning can be ignored when running in bare mode.\n",
            "2024-08-28 16:54:50.540 Thread 'MainThread': missing ScriptRunContext! This warning can be ignored when running in bare mode.\n",
            "2024-08-28 16:54:50.542 Thread 'MainThread': missing ScriptRunContext! This warning can be ignored when running in bare mode.\n",
            "2024-08-28 16:54:50.545 Thread 'MainThread': missing ScriptRunContext! This warning can be ignored when running in bare mode.\n",
            "2024-08-28 16:54:50.546 Thread 'MainThread': missing ScriptRunContext! This warning can be ignored when running in bare mode.\n",
            "2024-08-28 16:54:50.548 Thread 'MainThread': missing ScriptRunContext! This warning can be ignored when running in bare mode.\n",
            "2024-08-28 16:54:50.549 Thread 'MainThread': missing ScriptRunContext! This warning can be ignored when running in bare mode.\n",
            "2024-08-28 16:54:50.550 Thread 'MainThread': missing ScriptRunContext! This warning can be ignored when running in bare mode.\n",
            "2024-08-28 16:54:50.553 Thread 'MainThread': missing ScriptRunContext! This warning can be ignored when running in bare mode.\n",
            "2024-08-28 16:54:50.554 Thread 'MainThread': missing ScriptRunContext! This warning can be ignored when running in bare mode.\n"
          ]
        }
      ]
    },
    {
      "cell_type": "code",
      "source": [
        "print(df.head)"
      ],
      "metadata": {
        "colab": {
          "base_uri": "https://localhost:8080/"
        },
        "id": "uTmf7dX_6WJ8",
        "outputId": "b20b2d78-b1a7-450b-cd5c-0409954a001a"
      },
      "execution_count": null,
      "outputs": [
        {
          "output_type": "stream",
          "name": "stdout",
          "text": [
            "<bound method NDFrame.head of       product_id                                       product_name  \\\n",
            "0     B07JW9H4J1  Wayona Nylon Braided USB to Lightning Fast Cha...   \n",
            "1     B098NS6PVG  Ambrane Unbreakable 60W / 3A Fast Charging 1.5...   \n",
            "2     B096MSW6CT  Sounce Fast Phone Charging Cable & Data Sync U...   \n",
            "3     B08HDJ86NZ  boAt Deuce USB 300 2 in 1 Type-C & Micro USB S...   \n",
            "4     B08CF3B7N1  Portronics Konnect L 1.2M Fast Charging 3A 8 P...   \n",
            "...          ...                                                ...   \n",
            "1460  B08L7J3T31  Noir Aqua - 5pcs PP Spun Filter + 1 Spanner | ...   \n",
            "1461  B01M6453MB  Prestige Delight PRWO Electric Rice Cooker (1 ...   \n",
            "1462  B009P2LIL4  Bajaj Majesty RX10 2000 Watts Heat Convector R...   \n",
            "1463  B00J5DYCCA  Havells Ventil Air DSP 230mm Exhaust Fan (Pist...   \n",
            "1464  B01486F4G6  Borosil Jumbo 1000-Watt Grill Sandwich Maker (...   \n",
            "\n",
            "                                               category discounted_price  \\\n",
            "0     Computers&Accessories|Accessories&Peripherals|...             ₹399   \n",
            "1     Computers&Accessories|Accessories&Peripherals|...             ₹199   \n",
            "2     Computers&Accessories|Accessories&Peripherals|...             ₹199   \n",
            "3     Computers&Accessories|Accessories&Peripherals|...             ₹329   \n",
            "4     Computers&Accessories|Accessories&Peripherals|...             ₹154   \n",
            "...                                                 ...              ...   \n",
            "1460  Home&Kitchen|Kitchen&HomeAppliances|WaterPurif...             ₹379   \n",
            "1461  Home&Kitchen|Kitchen&HomeAppliances|SmallKitch...           ₹2,280   \n",
            "1462  Home&Kitchen|Heating,Cooling&AirQuality|RoomHe...           ₹2,219   \n",
            "1463  Home&Kitchen|Heating,Cooling&AirQuality|Fans|E...           ₹1,399   \n",
            "1464  Home&Kitchen|Kitchen&HomeAppliances|SmallKitch...           ₹2,863   \n",
            "\n",
            "     actual_price discount_percentage rating rating_count  \\\n",
            "0          ₹1,099                 64%    4.2       24,269   \n",
            "1            ₹349                 43%    4.0       43,994   \n",
            "2          ₹1,899                 90%    3.9        7,928   \n",
            "3            ₹699                 53%    4.2       94,363   \n",
            "4            ₹399                 61%    4.2       16,905   \n",
            "...           ...                 ...    ...          ...   \n",
            "1460         ₹919                 59%      4        1,090   \n",
            "1461       ₹3,045                 25%    4.1        4,118   \n",
            "1462       ₹3,080                 28%    3.6          468   \n",
            "1463       ₹1,890                 26%      4        8,031   \n",
            "1464       ₹3,690                 22%    4.3        6,987   \n",
            "\n",
            "                                          about_product  \\\n",
            "0     High Compatibility : Compatible With iPhone 12...   \n",
            "1     Compatible with all Type C enabled devices, be...   \n",
            "2     【 Fast Charger& Data Sync】-With built-in safet...   \n",
            "3     The boAt Deuce USB 300 2 in 1 cable is compati...   \n",
            "4     [CHARGE & SYNC FUNCTION]- This cable comes wit...   \n",
            "...                                                 ...   \n",
            "1460  SUPREME QUALITY 90 GRAM 3 LAYER THIK PP SPUN F...   \n",
            "1461                       230 Volts, 400 watts, 1 Year   \n",
            "1462  International design and styling|Two heat sett...   \n",
            "1463  Fan sweep area: 230 MM ; Noise level: (40 - 45...   \n",
            "1464  Brand-Borosil, Specification â€“ 23V ~ 5Hz;1 W...   \n",
            "\n",
            "                                                user_id  \\\n",
            "0     AG3D6O4STAQKAY2UVGEUV46KN35Q,AHMY5CWJMMK5BJRBB...   \n",
            "1     AECPFYFQVRUWC3KGNLJIOREFP5LQ,AGYYVPDD7YG7FYNBX...   \n",
            "2     AGU3BBQ2V2DDAMOAKGFAWDDQ6QHA,AESFLDV2PT363T2AQ...   \n",
            "3     AEWAZDZZJLQUYVOVGBEUKSLXHQ5A,AG5HTSFRRE6NL3M5S...   \n",
            "4     AE3Q6KSUK5P75D5HFYHCRAOLODSA,AFUGIFH5ZAFXRDSZH...   \n",
            "...                                                 ...   \n",
            "1460  AHITFY6AHALOFOHOZEOC6XBP4FEA,AFRABBODZJZQB6Z4U...   \n",
            "1461  AFG5FM3NEMOL6BNFRV2NK5FNJCHQ,AGEINTRN6Z563RMLH...   \n",
            "1462  AGVPWCMAHYQWJOQKMUJN4DW3KM5Q,AF4Q3E66MY4SR7YQZ...   \n",
            "1463  AF2JQCLSCY3QJATWUNNHUSVUPNQQ,AFDMLUXC5LS5RXDJS...   \n",
            "1464  AFGW5PT3R6ZAVQR4Y5MWVAKBZAYA,AG7QNJ2SCS5VS5VYY...   \n",
            "\n",
            "                                              user_name  \\\n",
            "0     Manav,Adarsh gupta,Sundeep,S.Sayeed Ahmed,jasp...   \n",
            "1     ArdKn,Nirbhay kumar,Sagar Viswanathan,Asp,Plac...   \n",
            "2     Kunal,Himanshu,viswanath,sai niharka,saqib mal...   \n",
            "3     Omkar dhale,JD,HEMALATHA,Ajwadh a.,amar singh ...   \n",
            "4     rahuls6099,Swasat Borah,Ajay Wadke,Pranali,RVK...   \n",
            "...                                                 ...   \n",
            "1460  Prabha ds,Raghuram bk,Real Deal,Amazon Custome...   \n",
            "1461  Manu Bhai,Naveenpittu,Evatira Sangma,JAGANNADH...   \n",
            "1462  Nehal Desai,Danish Parwez,Amazon Customer,Amaz...   \n",
            "1463  Shubham Dubey,E.GURUBARAN,Mayank S.,eusuf khan...   \n",
            "1464  Rajib,Ajay B,Vikas Kahol,PARDEEP,Anindya Prama...   \n",
            "\n",
            "                                              review_id  \\\n",
            "0     R3HXWT0LRP0NMF,R2AJM3LFTLZHFO,R6AQJGUP6P86,R1K...   \n",
            "1     RGIQEG07R9HS2,R1SMWZQ86XIN8U,R2J3Y1WL29GWDE,RY...   \n",
            "2     R3J3EQQ9TZI5ZJ,R3E7WBGK7ID0KV,RWU79XKQ6I1QF,R2...   \n",
            "3     R3EEUZKKK9J36I,R3HJVYCLYOY554,REDECAZ7AMPQC,R1...   \n",
            "4     R1BP4L2HH9TFUP,R16PVJEXKV6QZS,R2UPDB81N66T4P,R...   \n",
            "...                                                 ...   \n",
            "1460  R3G3XFHPBFF0E8,R3C0BZCD32EIGW,R2EBVBCN9QPD9R,R...   \n",
            "1461  R3DDL2UPKQ2CK9,R2SYYU1OATVIU5,R1VM993161IYRW,R...   \n",
            "1462  R1TLRJVW4STY5I,R2O455KRN493R1,R3Q5MVGBRIAS2G,R...   \n",
            "1463  R39Q2Y79MM9SWK,R3079BG1NIH6MB,R29A31ZELTZNJM,R...   \n",
            "1464  R20RBRZ0WEUJT9,ROKIFK9R2ISSE,R30EEG2FNJSN5I,R2...   \n",
            "\n",
            "                                           review_title  \\\n",
            "0     Satisfied,Charging is really fast,Value for mo...   \n",
            "1     A Good Braided Cable for Your Type C Device,Go...   \n",
            "2     Good speed for earlier versions,Good Product,W...   \n",
            "3     Good product,Good one,Nice,Really nice product...   \n",
            "4     As good as original,Decent,Good one for second...   \n",
            "...                                                 ...   \n",
            "1460  Received the product without spanner,Excellent...   \n",
            "1461  ok,everything was good couldn't return bcoz I ...   \n",
            "1462  very good,Work but front melt after 2 month,Go...   \n",
            "1463  Fan Speed is slow,Good quality,Good product,go...   \n",
            "1464  Works perfect,Ok good product,Nice Product. Re...   \n",
            "\n",
            "                                         review_content  \\\n",
            "0     Looks durable Charging is fine tooNo complains...   \n",
            "1     I ordered this cable to connect my phone to An...   \n",
            "2     Not quite durable and sturdy,https://m.media-a...   \n",
            "3     Good product,long wire,Charges good,Nice,I bou...   \n",
            "4     Bought this instead of original apple, does th...   \n",
            "...                                                 ...   \n",
            "1460  I received product without spanner,Excellent p...   \n",
            "1461  ok,got everything as mentioned but the measuri...   \n",
            "1462  plastic but cool body ,u have to find sturdy s...   \n",
            "1463  I have installed this in my kitchen working fi...   \n",
            "1464  It does it job perfectly..only issue is temp c...   \n",
            "\n",
            "                                               img_link  \\\n",
            "0     https://m.media-amazon.com/images/W/WEBP_40237...   \n",
            "1     https://m.media-amazon.com/images/W/WEBP_40237...   \n",
            "2     https://m.media-amazon.com/images/W/WEBP_40237...   \n",
            "3     https://m.media-amazon.com/images/I/41V5FtEWPk...   \n",
            "4     https://m.media-amazon.com/images/W/WEBP_40237...   \n",
            "...                                                 ...   \n",
            "1460  https://m.media-amazon.com/images/I/41fDdRtjfx...   \n",
            "1461  https://m.media-amazon.com/images/I/41gzDxk4+k...   \n",
            "1462  https://m.media-amazon.com/images/W/WEBP_40237...   \n",
            "1463  https://m.media-amazon.com/images/W/WEBP_40237...   \n",
            "1464  https://m.media-amazon.com/images/W/WEBP_40237...   \n",
            "\n",
            "                                           product_link  \n",
            "0     https://www.amazon.in/Wayona-Braided-WN3LG1-Sy...  \n",
            "1     https://www.amazon.in/Ambrane-Unbreakable-Char...  \n",
            "2     https://www.amazon.in/Sounce-iPhone-Charging-C...  \n",
            "3     https://www.amazon.in/Deuce-300-Resistant-Tang...  \n",
            "4     https://www.amazon.in/Portronics-Konnect-POR-1...  \n",
            "...                                                 ...  \n",
            "1460  https://www.amazon.in/Noir-Aqua-Spanner-Purifi...  \n",
            "1461  https://www.amazon.in/Prestige-Delight-PRWO-1-...  \n",
            "1462  https://www.amazon.in/Bajaj-RX-10-2000-Watt-Co...  \n",
            "1463  https://www.amazon.in/Havells-Ventilair-230mm-...  \n",
            "1464  https://www.amazon.in/Borosil-Jumbo-1000-Watt-...  \n",
            "\n",
            "[1465 rows x 16 columns]>\n"
          ]
        }
      ]
    },
    {
      "cell_type": "markdown",
      "source": [
        " 3: Data Cleaning and Preprocessing"
      ],
      "metadata": {
        "id": "RFRrwbJf5MBD"
      }
    },
    {
      "cell_type": "code",
      "source": [
        "# Convert columns to numeric where applicable\n",
        "df['discounted_price'] = pd.to_numeric(df['discounted_price'].str.replace(',', '').str.replace('₹', ''), errors='coerce')\n",
        "df['actual_price'] = pd.to_numeric(df['actual_price'].str.replace(',', '').str.replace('₹', ''), errors='coerce')\n",
        "df['discount_percentage'] = pd.to_numeric(df['discount_percentage'].str.replace('%', ''), errors='coerce')\n",
        "df['rating'] = pd.to_numeric(df['rating'], errors='coerce')\n",
        "df['rating_count'] = pd.to_numeric(df['rating_count'].str.replace(',', ''), errors='coerce')\n",
        "\n",
        "# Handle missing values\n",
        "df.dropna(inplace=True)\n",
        "\n",
        "st.write(\"Cleaned Data\")\n",
        "st.write(df.head())\n",
        "\n"
      ],
      "metadata": {
        "colab": {
          "base_uri": "https://localhost:8080/"
        },
        "id": "zDWtD-tD5M7M",
        "outputId": "fed6ece7-6497-474f-9220-4852ac243cfb"
      },
      "execution_count": null,
      "outputs": [
        {
          "output_type": "stream",
          "name": "stderr",
          "text": [
            "2024-08-28 16:56:14.602 Thread 'MainThread': missing ScriptRunContext! This warning can be ignored when running in bare mode.\n",
            "2024-08-28 16:56:14.603 Thread 'MainThread': missing ScriptRunContext! This warning can be ignored when running in bare mode.\n",
            "2024-08-28 16:56:14.606 Thread 'MainThread': missing ScriptRunContext! This warning can be ignored when running in bare mode.\n",
            "2024-08-28 16:56:14.609 Thread 'MainThread': missing ScriptRunContext! This warning can be ignored when running in bare mode.\n",
            "2024-08-28 16:56:14.616 Thread 'MainThread': missing ScriptRunContext! This warning can be ignored when running in bare mode.\n",
            "2024-08-28 16:56:14.618 Thread 'MainThread': missing ScriptRunContext! This warning can be ignored when running in bare mode.\n"
          ]
        }
      ]
    },
    {
      "cell_type": "markdown",
      "source": [
        "3: Data Analysis and Visualization"
      ],
      "metadata": {
        "id": "t3tqhJPN6t53"
      }
    },
    {
      "cell_type": "code",
      "source": [
        "import matplotlib.pyplot as plt\n",
        "import seaborn as sns\n",
        "\n",
        "# Price Distribution\n",
        "st.subheader('Price Distribution')\n",
        "fig, ax = plt.subplots()\n",
        "sns.histplot(df['discounted_price'], bins=30, ax=ax)\n",
        "ax.set_title('Distribution of Discounted Prices')\n",
        "st.pyplot(fig)\n",
        "\n",
        "# Discount Percentage vs Rating\n",
        "st.subheader('Discount vs Rating')\n",
        "fig, ax = plt.subplots()\n",
        "sns.scatterplot(data=df, x='discount_percentage', y='rating', ax=ax)\n",
        "ax.set_title('Discount Percentage vs Rating')\n",
        "st.pyplot(fig)\n",
        "\n",
        "# Average Rating by Category\n",
        "st.subheader('Average Rating by Category')\n",
        "avg_rating_by_category = df.groupby('category')['rating'].mean().sort_values(ascending=False)\n",
        "st.bar_chart(avg_rating_by_category)\n"
      ],
      "metadata": {
        "colab": {
          "base_uri": "https://localhost:8080/",
          "height": 1000
        },
        "id": "m7DvyArL6uzN",
        "outputId": "5ead0a82-4aaf-46c6-f1a9-cefc56998956"
      },
      "execution_count": null,
      "outputs": [
        {
          "output_type": "stream",
          "name": "stderr",
          "text": [
            "2024-08-28 16:56:49.528 Thread 'MainThread': missing ScriptRunContext! This warning can be ignored when running in bare mode.\n",
            "2024-08-28 16:56:49.534 Thread 'MainThread': missing ScriptRunContext! This warning can be ignored when running in bare mode.\n",
            "2024-08-28 16:56:49.867 Thread 'MainThread': missing ScriptRunContext! This warning can be ignored when running in bare mode.\n",
            "2024-08-28 16:56:50.609 Thread 'MainThread': missing ScriptRunContext! This warning can be ignored when running in bare mode.\n",
            "2024-08-28 16:56:50.616 Thread 'MainThread': missing ScriptRunContext! This warning can be ignored when running in bare mode.\n",
            "2024-08-28 16:56:50.632 Thread 'MainThread': missing ScriptRunContext! This warning can be ignored when running in bare mode.\n",
            "2024-08-28 16:56:50.635 Thread 'MainThread': missing ScriptRunContext! This warning can be ignored when running in bare mode.\n",
            "2024-08-28 16:56:50.893 Thread 'MainThread': missing ScriptRunContext! This warning can be ignored when running in bare mode.\n",
            "2024-08-28 16:56:51.484 Thread 'MainThread': missing ScriptRunContext! This warning can be ignored when running in bare mode.\n",
            "2024-08-28 16:56:51.496 Thread 'MainThread': missing ScriptRunContext! This warning can be ignored when running in bare mode.\n",
            "2024-08-28 16:56:51.498 Thread 'MainThread': missing ScriptRunContext! This warning can be ignored when running in bare mode.\n",
            "2024-08-28 16:56:51.503 Thread 'MainThread': missing ScriptRunContext! This warning can be ignored when running in bare mode.\n",
            "2024-08-28 16:56:52.360 Thread 'MainThread': missing ScriptRunContext! This warning can be ignored when running in bare mode.\n",
            "2024-08-28 16:56:52.362 Thread 'MainThread': missing ScriptRunContext! This warning can be ignored when running in bare mode.\n"
          ]
        },
        {
          "output_type": "execute_result",
          "data": {
            "text/plain": [
              "DeltaGenerator()"
            ]
          },
          "metadata": {},
          "execution_count": 17
        },
        {
          "output_type": "display_data",
          "data": {
            "text/plain": [
              "<Figure size 640x480 with 1 Axes>"
            ],
            "image/png": "[encoded data removed]"
          },
          "metadata": {}
        },
        {
          "output_type": "display_data",
          "data": {
            "text/plain": [
              "<Figure size 640x480 with 1 Axes>"
            ],
            "image/png": "[encoded data removed]"
          },
          "metadata": {}
        }
      ]
    },
    {
      "cell_type": "markdown",
      "source": [
        "4: Enhance Interactivity"
      ],
      "metadata": {
        "id": "8L29I7Ve63hR"
      }
    },
    {
      "cell_type": "code",
      "source": [
        "# Filter by Category\n",
        "st.subheader('Filter by Category')\n",
        "category = st.selectbox('Select Category', df['category'].unique())\n",
        "filtered_df = df[df['category'] == category]\n",
        "\n",
        "st.write(f\"Showing data for category: {category}\")\n",
        "st.write(filtered_df[['product_name', 'discounted_price', 'actual_price', 'discount_percentage', 'rating']])\n",
        "\n",
        "# Average Rating for Selected Category\n",
        "st.subheader(f'Average Rating for {category}')\n",
        "avg_rating = filtered_df['rating'].mean()\n",
        "st.write(f'Average Rating: {avg_rating:.2f}')\n"
      ],
      "metadata": {
        "colab": {
          "base_uri": "https://localhost:8080/"
        },
        "id": "k9vD7S6v64e1",
        "outputId": "443a5da1-862d-4eb2-a244-f6fea6b48665"
      },
      "execution_count": null,
      "outputs": [
        {
          "output_type": "stream",
          "name": "stderr",
          "text": [
            "2024-08-28 16:57:26.927 Thread 'MainThread': missing ScriptRunContext! This warning can be ignored when running in bare mode.\n",
            "2024-08-28 16:57:26.929 Thread 'MainThread': missing ScriptRunContext! This warning can be ignored when running in bare mode.\n",
            "2024-08-28 16:57:26.934 Thread 'MainThread': missing ScriptRunContext! This warning can be ignored when running in bare mode.\n",
            "2024-08-28 16:57:26.936 Thread 'MainThread': missing ScriptRunContext! This warning can be ignored when running in bare mode.\n",
            "2024-08-28 16:57:26.942 Thread 'MainThread': missing ScriptRunContext! This warning can be ignored when running in bare mode.\n",
            "2024-08-28 16:57:26.947 Session state does not function when running a script without `streamlit run`\n",
            "2024-08-28 16:57:26.951 Thread 'MainThread': missing ScriptRunContext! This warning can be ignored when running in bare mode.\n",
            "2024-08-28 16:57:26.953 Thread 'MainThread': missing ScriptRunContext! This warning can be ignored when running in bare mode.\n",
            "2024-08-28 16:57:26.960 Thread 'MainThread': missing ScriptRunContext! This warning can be ignored when running in bare mode.\n",
            "2024-08-28 16:57:26.963 Thread 'MainThread': missing ScriptRunContext! This warning can be ignored when running in bare mode.\n",
            "2024-08-28 16:57:26.967 Thread 'MainThread': missing ScriptRunContext! This warning can be ignored when running in bare mode.\n",
            "2024-08-28 16:57:26.968 Thread 'MainThread': missing ScriptRunContext! This warning can be ignored when running in bare mode.\n",
            "2024-08-28 16:57:26.986 Thread 'MainThread': missing ScriptRunContext! This warning can be ignored when running in bare mode.\n",
            "2024-08-28 16:57:26.989 Thread 'MainThread': missing ScriptRunContext! This warning can be ignored when running in bare mode.\n",
            "2024-08-28 16:57:26.991 Thread 'MainThread': missing ScriptRunContext! This warning can be ignored when running in bare mode.\n",
            "2024-08-28 16:57:26.993 Thread 'MainThread': missing ScriptRunContext! This warning can be ignored when running in bare mode.\n",
            "2024-08-28 16:57:26.996 Thread 'MainThread': missing ScriptRunContext! This warning can be ignored when running in bare mode.\n",
            "2024-08-28 16:57:26.999 Thread 'MainThread': missing ScriptRunContext! This warning can be ignored when running in bare mode.\n",
            "2024-08-28 16:57:27.001 Thread 'MainThread': missing ScriptRunContext! This warning can be ignored when running in bare mode.\n",
            "2024-08-28 16:57:27.002 Thread 'MainThread': missing ScriptRunContext! This warning can be ignored when running in bare mode.\n"
          ]
        }
      ]
    }
  ]
}